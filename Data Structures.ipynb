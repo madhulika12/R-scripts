{
 "cells": [
  {
   "cell_type": "code",
   "execution_count": 26,
   "metadata": {},
   "outputs": [
    {
     "data": {
      "text/html": [
       "<table>\n",
       "<thead><tr><th scope=col>a</th><th scope=col>b</th></tr></thead>\n",
       "<tbody>\n",
       "\t<tr><td>1</td><td>1</td></tr>\n",
       "</tbody>\n",
       "</table>\n"
      ],
      "text/latex": [
       "\\begin{tabular}{r|ll}\n",
       " a & b\\\\\n",
       "\\hline\n",
       "\t 1 & 1\\\\\n",
       "\\end{tabular}\n"
      ],
      "text/markdown": [
       "\n",
       "a | b | \n",
       "|---|\n",
       "| 1 | 1 | \n",
       "\n",
       "\n"
      ],
      "text/plain": [
       "  a b\n",
       "1 1 1"
      ]
     },
     "metadata": {},
     "output_type": "display_data"
    }
   ],
   "source": [
    "(data_frame <- data.frame(a=c(1), b=1))"
   ]
  },
  {
   "cell_type": "code",
   "execution_count": 27,
   "metadata": {},
   "outputs": [
    {
     "data": {
      "text/html": [
       "1"
      ],
      "text/latex": [
       "1"
      ],
      "text/markdown": [
       "1"
      ],
      "text/plain": [
       "[1] 1"
      ]
     },
     "metadata": {},
     "output_type": "display_data"
    }
   ],
   "source": [
    "(b=1)"
   ]
  },
  {
   "cell_type": "code",
   "execution_count": 28,
   "metadata": {},
   "outputs": [
    {
     "data": {
      "text/html": [
       "'numeric'"
      ],
      "text/latex": [
       "'numeric'"
      ],
      "text/markdown": [
       "'numeric'"
      ],
      "text/plain": [
       "[1] \"numeric\""
      ]
     },
     "metadata": {},
     "output_type": "display_data"
    }
   ],
   "source": [
    "class(b)"
   ]
  },
  {
   "cell_type": "code",
   "execution_count": 29,
   "metadata": {},
   "outputs": [
    {
     "data": {
      "text/html": [
       "'numeric'"
      ],
      "text/latex": [
       "'numeric'"
      ],
      "text/markdown": [
       "'numeric'"
      ],
      "text/plain": [
       "[1] \"numeric\""
      ]
     },
     "metadata": {},
     "output_type": "display_data"
    }
   ],
   "source": [
    "mode(b)"
   ]
  },
  {
   "cell_type": "code",
   "execution_count": 30,
   "metadata": {},
   "outputs": [
    {
     "data": {
      "text/html": [
       "'double'"
      ],
      "text/latex": [
       "'double'"
      ],
      "text/markdown": [
       "'double'"
      ],
      "text/plain": [
       "[1] \"double\""
      ]
     },
     "metadata": {},
     "output_type": "display_data"
    }
   ],
   "source": [
    "typeof(b)"
   ]
  },
  {
   "cell_type": "code",
   "execution_count": 31,
   "metadata": {},
   "outputs": [
    {
     "data": {
      "text/html": [
       "<ol class=list-inline>\n",
       "\t<li>'1'</li>\n",
       "\t<li>'2'</li>\n",
       "\t<li>'3'</li>\n",
       "</ol>\n"
      ],
      "text/latex": [
       "\\begin{enumerate*}\n",
       "\\item '1'\n",
       "\\item '2'\n",
       "\\item '3'\n",
       "\\end{enumerate*}\n"
      ],
      "text/markdown": [
       "1. '1'\n",
       "2. '2'\n",
       "3. '3'\n",
       "\n",
       "\n"
      ],
      "text/plain": [
       "[1] \"1\" \"2\" \"3\""
      ]
     },
     "metadata": {},
     "output_type": "display_data"
    }
   ],
   "source": [
    "(a = c(1,2,\"3\"))"
   ]
  },
  {
   "cell_type": "code",
   "execution_count": 32,
   "metadata": {},
   "outputs": [
    {
     "data": {
      "text/html": [
       "<dl>\n",
       "\t<dt>$a</dt>\n",
       "\t\t<dd><ol class=list-inline>\n",
       "\t<li>'1'</li>\n",
       "\t<li>'2'</li>\n",
       "\t<li>'3'</li>\n",
       "</ol>\n",
       "</dd>\n",
       "\t<dt>$b</dt>\n",
       "\t\t<dd><ol class=list-inline>\n",
       "\t<li>1</li>\n",
       "\t<li>2</li>\n",
       "\t<li>3</li>\n",
       "</ol>\n",
       "</dd>\n",
       "</dl>\n"
      ],
      "text/latex": [
       "\\begin{description}\n",
       "\\item[\\$a] \\begin{enumerate*}\n",
       "\\item '1'\n",
       "\\item '2'\n",
       "\\item '3'\n",
       "\\end{enumerate*}\n",
       "\n",
       "\\item[\\$b] \\begin{enumerate*}\n",
       "\\item 1\n",
       "\\item 2\n",
       "\\item 3\n",
       "\\end{enumerate*}\n",
       "\n",
       "\\end{description}\n"
      ],
      "text/markdown": [
       "$a\n",
       ":   1. '1'\n",
       "2. '2'\n",
       "3. '3'\n",
       "\n",
       "\n",
       "\n",
       "$b\n",
       ":   1. 1\n",
       "2. 2\n",
       "3. 3\n",
       "\n",
       "\n",
       "\n",
       "\n",
       "\n"
      ],
      "text/plain": [
       "$a\n",
       "[1] \"1\" \"2\" \"3\"\n",
       "\n",
       "$b\n",
       "[1] 1 2 3\n"
      ]
     },
     "metadata": {},
     "output_type": "display_data"
    }
   ],
   "source": [
    "(listVar <- list(a=c(1,2,\"3\"), b=c(1,2,3)))"
   ]
  },
  {
   "cell_type": "code",
   "execution_count": 33,
   "metadata": {},
   "outputs": [
    {
     "data": {
      "text/html": [
       "<table>\n",
       "<thead><tr><th scope=col>a</th><th scope=col>b</th></tr></thead>\n",
       "<tbody>\n",
       "\t<tr><td>1</td><td>1</td></tr>\n",
       "\t<tr><td>2</td><td>2</td></tr>\n",
       "\t<tr><td>3</td><td>3</td></tr>\n",
       "</tbody>\n",
       "</table>\n"
      ],
      "text/latex": [
       "\\begin{tabular}{r|ll}\n",
       " a & b\\\\\n",
       "\\hline\n",
       "\t 1 & 1\\\\\n",
       "\t 2 & 2\\\\\n",
       "\t 3 & 3\\\\\n",
       "\\end{tabular}\n"
      ],
      "text/markdown": [
       "\n",
       "a | b | \n",
       "|---|---|---|\n",
       "| 1 | 1 | \n",
       "| 2 | 2 | \n",
       "| 3 | 3 | \n",
       "\n",
       "\n"
      ],
      "text/plain": [
       "  a b\n",
       "1 1 1\n",
       "2 2 2\n",
       "3 3 3"
      ]
     },
     "metadata": {},
     "output_type": "display_data"
    }
   ],
   "source": [
    "(data_frame <- data.frame(a=c(1,2,\"3\"), b=c(1,2,3)))"
   ]
  },
  {
   "cell_type": "code",
   "execution_count": 34,
   "metadata": {},
   "outputs": [
    {
     "data": {
      "text/html": [
       "<table>\n",
       "<thead><tr><th scope=col>a</th><th scope=col>b</th></tr></thead>\n",
       "<tbody>\n",
       "\t<tr><td>1</td><td>1</td></tr>\n",
       "\t<tr><td>2</td><td>2</td></tr>\n",
       "\t<tr><td>3</td><td>3</td></tr>\n",
       "</tbody>\n",
       "</table>\n"
      ],
      "text/latex": [
       "\\begin{tabular}{ll}\n",
       " a & b\\\\\n",
       "\\hline\n",
       "\t 1 & 1\\\\\n",
       "\t 2 & 2\\\\\n",
       "\t 3 & 3\\\\\n",
       "\\end{tabular}\n"
      ],
      "text/markdown": [
       "\n",
       "a | b | \n",
       "|---|---|---|\n",
       "| 1 | 1 | \n",
       "| 2 | 2 | \n",
       "| 3 | 3 | \n",
       "\n",
       "\n"
      ],
      "text/plain": [
       "     a b\n",
       "[1,] 1 1\n",
       "[2,] 2 2\n",
       "[3,] 3 3"
      ]
     },
     "metadata": {},
     "output_type": "display_data"
    }
   ],
   "source": [
    "(nextMatrix <- as.matrix(data_frame))"
   ]
  },
  {
   "cell_type": "code",
   "execution_count": 35,
   "metadata": {},
   "outputs": [
    {
     "data": {
      "text/html": [
       "<ol class=list-inline>\n",
       "\t<li>1</li>\n",
       "\t<li>2</li>\n",
       "\t<li>3</li>\n",
       "</ol>\n"
      ],
      "text/latex": [
       "\\begin{enumerate*}\n",
       "\\item 1\n",
       "\\item 2\n",
       "\\item 3\n",
       "\\end{enumerate*}\n"
      ],
      "text/markdown": [
       "1. 1\n",
       "2. 2\n",
       "3. 3\n",
       "\n",
       "\n"
      ],
      "text/plain": [
       "[1] 1 2 3"
      ]
     },
     "metadata": {},
     "output_type": "display_data"
    }
   ],
   "source": [
    "(data_frame$b)"
   ]
  },
  {
   "cell_type": "code",
   "execution_count": 36,
   "metadata": {},
   "outputs": [
    {
     "data": {
      "text/html": [
       "<ol class=list-inline>\n",
       "\t<li>1</li>\n",
       "\t<li>2</li>\n",
       "\t<li>3</li>\n",
       "</ol>\n"
      ],
      "text/latex": [
       "\\begin{enumerate*}\n",
       "\\item 1\n",
       "\\item 2\n",
       "\\item 3\n",
       "\\end{enumerate*}\n"
      ],
      "text/markdown": [
       "1. 1\n",
       "2. 2\n",
       "3. 3\n",
       "\n",
       "\n"
      ],
      "text/plain": [
       "[1] 1 2 3"
      ]
     },
     "metadata": {},
     "output_type": "display_data"
    }
   ],
   "source": [
    "(listVar$b)"
   ]
  },
  {
   "cell_type": "code",
   "execution_count": 37,
   "metadata": {},
   "outputs": [
    {
     "data": {
      "text/html": [
       "'character'"
      ],
      "text/latex": [
       "'character'"
      ],
      "text/markdown": [
       "'character'"
      ],
      "text/plain": [
       "[1] \"character\""
      ]
     },
     "metadata": {},
     "output_type": "display_data"
    }
   ],
   "source": [
    "(class(nextMatrix[,1]))"
   ]
  },
  {
   "cell_type": "code",
   "execution_count": 38,
   "metadata": {},
   "outputs": [
    {
     "data": {
      "text/html": [
       "'character'"
      ],
      "text/latex": [
       "'character'"
      ],
      "text/markdown": [
       "'character'"
      ],
      "text/plain": [
       "[1] \"character\""
      ]
     },
     "metadata": {},
     "output_type": "display_data"
    }
   ],
   "source": [
    "(class(nextMatrix[,2]));"
   ]
  },
  {
   "cell_type": "code",
   "execution_count": 39,
   "metadata": {},
   "outputs": [
    {
     "data": {
      "text/html": [
       "<table>\n",
       "<thead><tr><th scope=col>a</th><th scope=col>b</th></tr></thead>\n",
       "<tbody>\n",
       "\t<tr><td>1</td><td>1</td></tr>\n",
       "\t<tr><td>2</td><td>2</td></tr>\n",
       "\t<tr><td>3</td><td>3</td></tr>\n",
       "</tbody>\n",
       "</table>\n"
      ],
      "text/latex": [
       "\\begin{tabular}{ll}\n",
       " a & b\\\\\n",
       "\\hline\n",
       "\t 1 & 1\\\\\n",
       "\t 2 & 2\\\\\n",
       "\t 3 & 3\\\\\n",
       "\\end{tabular}\n"
      ],
      "text/markdown": [
       "\n",
       "a | b | \n",
       "|---|---|---|\n",
       "| 1 | 1 | \n",
       "| 2 | 2 | \n",
       "| 3 | 3 | \n",
       "\n",
       "\n"
      ],
      "text/plain": [
       "     a b\n",
       "[1,] 1 1\n",
       "[2,] 2 2\n",
       "[3,] 3 3"
      ]
     },
     "metadata": {},
     "output_type": "display_data"
    }
   ],
   "source": [
    "as.matrix(data_frame)"
   ]
  },
  {
   "cell_type": "code",
   "execution_count": 40,
   "metadata": {},
   "outputs": [
    {
     "data": {
      "text/html": [
       "<table>\n",
       "<thead><tr><th scope=col>a</th><th scope=col>b</th></tr></thead>\n",
       "<tbody>\n",
       "\t<tr><td>1</td><td>1</td></tr>\n",
       "\t<tr><td>2</td><td>2</td></tr>\n",
       "\t<tr><td>3</td><td>3</td></tr>\n",
       "</tbody>\n",
       "</table>\n"
      ],
      "text/latex": [
       "\\begin{tabular}{ll}\n",
       " a & b\\\\\n",
       "\\hline\n",
       "\t 1 & 1\\\\\n",
       "\t 2 & 2\\\\\n",
       "\t 3 & 3\\\\\n",
       "\\end{tabular}\n"
      ],
      "text/markdown": [
       "\n",
       "a | b | \n",
       "|---|---|---|\n",
       "| 1 | 1 | \n",
       "| 2 | 2 | \n",
       "| 3 | 3 | \n",
       "\n",
       "\n"
      ],
      "text/plain": [
       "     a b\n",
       "[1,] 1 1\n",
       "[2,] 2 2\n",
       "[3,] 3 3"
      ]
     },
     "metadata": {},
     "output_type": "display_data"
    }
   ],
   "source": [
    "nextMatrix"
   ]
  },
  {
   "cell_type": "code",
   "execution_count": 41,
   "metadata": {},
   "outputs": [],
   "source": [
    "?matrix"
   ]
  },
  {
   "cell_type": "code",
   "execution_count": 42,
   "metadata": {},
   "outputs": [
    {
     "data": {
      "text/html": [
       "<table>\n",
       "<tbody>\n",
       "\t<tr><td>1 </td><td>5 </td><td> 9</td><td>13</td><td>17</td></tr>\n",
       "\t<tr><td>2 </td><td>6 </td><td>10</td><td>14</td><td>18</td></tr>\n",
       "\t<tr><td>3 </td><td>7 </td><td>11</td><td>15</td><td>19</td></tr>\n",
       "\t<tr><td>4 </td><td>8 </td><td>12</td><td>16</td><td>20</td></tr>\n",
       "</tbody>\n",
       "</table>\n"
      ],
      "text/latex": [
       "\\begin{tabular}{lllll}\n",
       "\t 1  & 5  &  9 & 13 & 17\\\\\n",
       "\t 2  & 6  & 10 & 14 & 18\\\\\n",
       "\t 3  & 7  & 11 & 15 & 19\\\\\n",
       "\t 4  & 8  & 12 & 16 & 20\\\\\n",
       "\\end{tabular}\n"
      ],
      "text/markdown": [
       "\n",
       "| 1  | 5  |  9 | 13 | 17 | \n",
       "| 2  | 6  | 10 | 14 | 18 | \n",
       "| 3  | 7  | 11 | 15 | 19 | \n",
       "| 4  | 8  | 12 | 16 | 20 | \n",
       "\n",
       "\n"
      ],
      "text/plain": [
       "     [,1] [,2] [,3] [,4] [,5]\n",
       "[1,] 1    5     9   13   17  \n",
       "[2,] 2    6    10   14   18  \n",
       "[3,] 3    7    11   15   19  \n",
       "[4,] 4    8    12   16   20  "
      ]
     },
     "metadata": {},
     "output_type": "display_data"
    }
   ],
   "source": [
    "(A <- matrix (1:20,4,5))"
   ]
  },
  {
   "cell_type": "code",
   "execution_count": 43,
   "metadata": {},
   "outputs": [
    {
     "data": {
      "text/html": [
       "10"
      ],
      "text/latex": [
       "10"
      ],
      "text/markdown": [
       "10"
      ],
      "text/plain": [
       "[1] 10"
      ]
     },
     "metadata": {},
     "output_type": "display_data"
    }
   ],
   "source": [
    "A[2,3]"
   ]
  },
  {
   "cell_type": "code",
   "execution_count": 44,
   "metadata": {},
   "outputs": [
    {
     "data": {
      "text/html": [
       "<table>\n",
       "<tbody>\n",
       "\t<tr><td> 1</td><td> 2</td><td> 3</td><td> 4</td><td> 5</td></tr>\n",
       "\t<tr><td> 6</td><td> 7</td><td> 8</td><td> 9</td><td>10</td></tr>\n",
       "\t<tr><td>11</td><td>12</td><td>13</td><td>14</td><td>15</td></tr>\n",
       "\t<tr><td>16</td><td>17</td><td>18</td><td>19</td><td>20</td></tr>\n",
       "</tbody>\n",
       "</table>\n"
      ],
      "text/latex": [
       "\\begin{tabular}{lllll}\n",
       "\t  1 &  2 &  3 &  4 &  5\\\\\n",
       "\t  6 &  7 &  8 &  9 & 10\\\\\n",
       "\t 11 & 12 & 13 & 14 & 15\\\\\n",
       "\t 16 & 17 & 18 & 19 & 20\\\\\n",
       "\\end{tabular}\n"
      ],
      "text/markdown": [
       "\n",
       "|  1 |  2 |  3 |  4 |  5 | \n",
       "|  6 |  7 |  8 |  9 | 10 | \n",
       "| 11 | 12 | 13 | 14 | 15 | \n",
       "| 16 | 17 | 18 | 19 | 20 | \n",
       "\n",
       "\n"
      ],
      "text/plain": [
       "     [,1] [,2] [,3] [,4] [,5]\n",
       "[1,]  1    2    3    4    5  \n",
       "[2,]  6    7    8    9   10  \n",
       "[3,] 11   12   13   14   15  \n",
       "[4,] 16   17   18   19   20  "
      ]
     },
     "metadata": {},
     "output_type": "display_data"
    }
   ],
   "source": [
    "(B <- matrix(1:20, 4, 5, byrow = T))"
   ]
  },
  {
   "cell_type": "code",
   "execution_count": 45,
   "metadata": {},
   "outputs": [
    {
     "data": {
      "text/html": [
       "<ol class=list-inline>\n",
       "\t<li>'I'</li>\n",
       "\t<li>'am'</li>\n",
       "\t<li>'in'</li>\n",
       "</ol>\n"
      ],
      "text/latex": [
       "\\begin{enumerate*}\n",
       "\\item 'I'\n",
       "\\item 'am'\n",
       "\\item 'in'\n",
       "\\end{enumerate*}\n"
      ],
      "text/markdown": [
       "1. 'I'\n",
       "2. 'am'\n",
       "3. 'in'\n",
       "\n",
       "\n"
      ],
      "text/plain": [
       "[1] \"I\"  \"am\" \"in\""
      ]
     },
     "metadata": {},
     "output_type": "display_data"
    }
   ],
   "source": [
    "(r1 <- c(\"I\", \"am\", \"in\"))"
   ]
  },
  {
   "cell_type": "code",
   "execution_count": 46,
   "metadata": {},
   "outputs": [],
   "source": [
    "?rbind"
   ]
  },
  {
   "cell_type": "code",
   "execution_count": 47,
   "metadata": {},
   "outputs": [
    {
     "data": {
      "text/html": [
       "<ol class=list-inline>\n",
       "\t<li>1</li>\n",
       "\t<li>2</li>\n",
       "\t<li>3</li>\n",
       "</ol>\n"
      ],
      "text/latex": [
       "\\begin{enumerate*}\n",
       "\\item 1\n",
       "\\item 2\n",
       "\\item 3\n",
       "\\end{enumerate*}\n"
      ],
      "text/markdown": [
       "1. 1\n",
       "2. 2\n",
       "3. 3\n",
       "\n",
       "\n"
      ],
      "text/plain": [
       "[1] 1 2 3"
      ]
     },
     "metadata": {},
     "output_type": "display_data"
    }
   ],
   "source": [
    "(r2 <- c(1,2,3)) "
   ]
  },
  {
   "cell_type": "code",
   "execution_count": 48,
   "metadata": {},
   "outputs": [
    {
     "data": {
      "text/html": [
       "<table>\n",
       "<tbody>\n",
       "\t<tr><th scope=row>r1</th><td>I </td><td>am</td><td>in</td></tr>\n",
       "\t<tr><th scope=row>r2</th><td>1 </td><td>2 </td><td>3 </td></tr>\n",
       "</tbody>\n",
       "</table>\n"
      ],
      "text/latex": [
       "\\begin{tabular}{r|lll}\n",
       "\tr1 & I  & am & in\\\\\n",
       "\tr2 & 1  & 2  & 3 \\\\\n",
       "\\end{tabular}\n"
      ],
      "text/markdown": [
       "\n",
       "| r1 | I  | am | in | \n",
       "| r2 | 1  | 2  | 3  | \n",
       "\n",
       "\n"
      ],
      "text/plain": [
       "   [,1] [,2] [,3]\n",
       "r1 I    am   in  \n",
       "r2 1    2    3   "
      ]
     },
     "metadata": {},
     "output_type": "display_data"
    }
   ],
   "source": [
    "(r3 <- rbind(r1,r2))"
   ]
  },
  {
   "cell_type": "code",
   "execution_count": 49,
   "metadata": {
    "scrolled": true
   },
   "outputs": [
    {
     "data": {
      "text/html": [
       "<table>\n",
       "<thead><tr><th scope=col>r1</th><th scope=col>r2</th></tr></thead>\n",
       "<tbody>\n",
       "\t<tr><td>I </td><td>1 </td></tr>\n",
       "\t<tr><td>am</td><td>2 </td></tr>\n",
       "\t<tr><td>in</td><td>3 </td></tr>\n",
       "</tbody>\n",
       "</table>\n"
      ],
      "text/latex": [
       "\\begin{tabular}{ll}\n",
       " r1 & r2\\\\\n",
       "\\hline\n",
       "\t I  & 1 \\\\\n",
       "\t am & 2 \\\\\n",
       "\t in & 3 \\\\\n",
       "\\end{tabular}\n"
      ],
      "text/markdown": [
       "\n",
       "r1 | r2 | \n",
       "|---|---|---|\n",
       "| I  | 1  | \n",
       "| am | 2  | \n",
       "| in | 3  | \n",
       "\n",
       "\n"
      ],
      "text/plain": [
       "     r1 r2\n",
       "[1,] I  1 \n",
       "[2,] am 2 \n",
       "[3,] in 3 "
      ]
     },
     "metadata": {},
     "output_type": "display_data"
    }
   ],
   "source": [
    "(r4 <- cbind(r1,r2))"
   ]
  },
  {
   "cell_type": "markdown",
   "metadata": {},
   "source": [
    "<h2 style='color:red'> Question1 begin </h2>\n"
   ]
  },
  {
   "cell_type": "code",
   "execution_count": 50,
   "metadata": {},
   "outputs": [
    {
     "data": {
      "text/html": [
       "3"
      ],
      "text/latex": [
       "3"
      ],
      "text/markdown": [
       "3"
      ],
      "text/plain": [
       "[1] 3"
      ]
     },
     "metadata": {},
     "output_type": "display_data"
    }
   ],
   "source": [
    "(a<-3);"
   ]
  },
  {
   "cell_type": "code",
   "execution_count": 51,
   "metadata": {},
   "outputs": [
    {
     "data": {
      "text/html": [
       "'numeric'"
      ],
      "text/latex": [
       "'numeric'"
      ],
      "text/markdown": [
       "'numeric'"
      ],
      "text/plain": [
       "[1] \"numeric\""
      ]
     },
     "metadata": {},
     "output_type": "display_data"
    }
   ],
   "source": [
    "class(a)"
   ]
  },
  {
   "cell_type": "code",
   "execution_count": 52,
   "metadata": {},
   "outputs": [
    {
     "data": {
      "text/html": [
       "'numeric'"
      ],
      "text/latex": [
       "'numeric'"
      ],
      "text/markdown": [
       "'numeric'"
      ],
      "text/plain": [
       "[1] \"numeric\""
      ]
     },
     "metadata": {},
     "output_type": "display_data"
    }
   ],
   "source": [
    "class(a1 <- 1.3)"
   ]
  },
  {
   "cell_type": "code",
   "execution_count": 53,
   "metadata": {},
   "outputs": [],
   "source": [
    "Charlie <- 1:5"
   ]
  },
  {
   "cell_type": "code",
   "execution_count": 54,
   "metadata": {},
   "outputs": [
    {
     "data": {
      "text/html": [
       "'integer'"
      ],
      "text/latex": [
       "'integer'"
      ],
      "text/markdown": [
       "'integer'"
      ],
      "text/plain": [
       "[1] \"integer\""
      ]
     },
     "metadata": {},
     "output_type": "display_data"
    }
   ],
   "source": [
    "class(Charlie)"
   ]
  },
  {
   "cell_type": "code",
   "execution_count": 55,
   "metadata": {
    "scrolled": true
   },
   "outputs": [
    {
     "data": {
      "text/html": [
       "<ol class=list-inline>\n",
       "\t<li>1.1</li>\n",
       "\t<li>2.1</li>\n",
       "\t<li>3.1</li>\n",
       "\t<li>4.1</li>\n",
       "\t<li>5.1</li>\n",
       "</ol>\n"
      ],
      "text/latex": [
       "\\begin{enumerate*}\n",
       "\\item 1.1\n",
       "\\item 2.1\n",
       "\\item 3.1\n",
       "\\item 4.1\n",
       "\\item 5.1\n",
       "\\end{enumerate*}\n"
      ],
      "text/markdown": [
       "1. 1.1\n",
       "2. 2.1\n",
       "3. 3.1\n",
       "4. 4.1\n",
       "5. 5.1\n",
       "\n",
       "\n"
      ],
      "text/plain": [
       "[1] 1.1 2.1 3.1 4.1 5.1"
      ]
     },
     "metadata": {},
     "output_type": "display_data"
    }
   ],
   "source": [
    "(Charlie1 <- 1.1:5.1)"
   ]
  },
  {
   "cell_type": "code",
   "execution_count": 56,
   "metadata": {},
   "outputs": [
    {
     "data": {
      "text/html": [
       "'numeric'"
      ],
      "text/latex": [
       "'numeric'"
      ],
      "text/markdown": [
       "'numeric'"
      ],
      "text/plain": [
       "[1] \"numeric\""
      ]
     },
     "metadata": {},
     "output_type": "display_data"
    }
   ],
   "source": [
    "class(Charlie1)"
   ]
  },
  {
   "cell_type": "markdown",
   "metadata": {},
   "source": [
    "<h2 style='color:red'> Question1 end </h2>"
   ]
  },
  {
   "cell_type": "code",
   "execution_count": 57,
   "metadata": {},
   "outputs": [
    {
     "data": {
      "text/html": [
       "FALSE"
      ],
      "text/latex": [
       "FALSE"
      ],
      "text/markdown": [
       "FALSE"
      ],
      "text/plain": [
       "[1] FALSE"
      ]
     },
     "metadata": {},
     "output_type": "display_data"
    }
   ],
   "source": [
    "is.object(Charlie)"
   ]
  },
  {
   "cell_type": "code",
   "execution_count": 58,
   "metadata": {},
   "outputs": [
    {
     "data": {
      "text/html": [
       "TRUE"
      ],
      "text/latex": [
       "TRUE"
      ],
      "text/markdown": [
       "TRUE"
      ],
      "text/plain": [
       "[1] TRUE"
      ]
     },
     "metadata": {},
     "output_type": "display_data"
    }
   ],
   "source": [
    "is.object(data_frame)"
   ]
  },
  {
   "cell_type": "code",
   "execution_count": 59,
   "metadata": {},
   "outputs": [
    {
     "data": {
      "text/html": [
       "FALSE"
      ],
      "text/latex": [
       "FALSE"
      ],
      "text/markdown": [
       "FALSE"
      ],
      "text/plain": [
       "[1] FALSE"
      ]
     },
     "metadata": {},
     "output_type": "display_data"
    }
   ],
   "source": [
    "is.object(Charlie1)"
   ]
  },
  {
   "cell_type": "code",
   "execution_count": 60,
   "metadata": {},
   "outputs": [
    {
     "data": {
      "text/html": [
       "FALSE"
      ],
      "text/latex": [
       "FALSE"
      ],
      "text/markdown": [
       "FALSE"
      ],
      "text/plain": [
       "[1] FALSE"
      ]
     },
     "metadata": {},
     "output_type": "display_data"
    }
   ],
   "source": [
    "is.object(listVar)"
   ]
  },
  {
   "cell_type": "code",
   "execution_count": 61,
   "metadata": {},
   "outputs": [],
   "source": [
    "?is.object"
   ]
  },
  {
   "cell_type": "code",
   "execution_count": 62,
   "metadata": {},
   "outputs": [
    {
     "data": {
      "text/html": [
       "FALSE"
      ],
      "text/latex": [
       "FALSE"
      ],
      "text/markdown": [
       "FALSE"
      ],
      "text/plain": [
       "[1] FALSE"
      ]
     },
     "metadata": {},
     "output_type": "display_data"
    }
   ],
   "source": [
    "is.object(as.complex(1:3))"
   ]
  },
  {
   "cell_type": "markdown",
   "metadata": {},
   "source": [
    "<h2 style='color:purple'> Page 74 </h2>\n"
   ]
  },
  {
   "cell_type": "code",
   "execution_count": 1,
   "metadata": {},
   "outputs": [],
   "source": [
    "#Field Goals\n",
    "KobeBryant_FG <- c(978,813,775,800,716,740,574,738,31,266)\n",
    "JoeJohnson_FG <- c(632,536,647,620,635,514,423,445,462,446)\n",
    "LeBronJames_FG <- c(875,772,794,789,768,758,621,765,767,624)\n",
    "CarmeloAnthony_FG <- c(756,691,728,535,688,684,441,669,743,358)\n",
    "DwightHoward_FG <- c(468,526,583,560,510,619,416,470,473,251)\n",
    "ChrisBosh_FG <- c(549,543,507,615,600,524,393,485,492,343)\n",
    "ChrisPaul_FG <- c(407,381,630,631,314,430,425,412,406,568)\n",
    "KevinDurant_FG <- c(306,306,587,661,794,711,643,731,849,238)\n",
    "DerrickRose_FG <- c(208,208,208,574,672,711,302,0,58,338)\n",
    "DwayneWade_FG <- c(699,472,439,854,719,692,416,569,415,509)\n",
    "#Matrix\n",
    "FieldGoals <- rbind(KobeBryant_FG, JoeJohnson_FG, LeBronJames_FG,\n",
    "CarmeloAnthony_FG, DwightHoward_FG, ChrisBosh_FG, ChrisPaul_FG,\n",
    "KevinDurant_FG, DerrickRose_FG, DwayneWade_FG)"
   ]
  },
  {
   "cell_type": "markdown",
   "metadata": {},
   "source": [
    "<h2 style='color:red'> Question2 - Don't understand the graph</h2>"
   ]
  },
  {
   "cell_type": "code",
   "execution_count": 2,
   "metadata": {},
   "outputs": [
    {
     "data": {
      "image/png": "[encoded data removed]",
      "text/plain": [
       "plot without title"
      ]
     },
     "metadata": {},
     "output_type": "display_data"
    }
   ],
   "source": [
    "matplot(FieldGoals)"
   ]
  },
  {
   "cell_type": "code",
   "execution_count": 4,
   "metadata": {},
   "outputs": [],
   "source": [
    "?t"
   ]
  },
  {
   "cell_type": "code",
   "execution_count": 5,
   "metadata": {},
   "outputs": [
    {
     "data": {
      "text/html": [
       "<table>\n",
       "<tbody>\n",
       "\t<tr><th scope=row>KobeBryant_FG</th><td>978</td><td>813</td><td>775</td><td>800</td><td>716</td><td>740</td><td>574</td><td>738</td><td> 31</td><td>266</td></tr>\n",
       "\t<tr><th scope=row>JoeJohnson_FG</th><td>632</td><td>536</td><td>647</td><td>620</td><td>635</td><td>514</td><td>423</td><td>445</td><td>462</td><td>446</td></tr>\n",
       "\t<tr><th scope=row>LeBronJames_FG</th><td>875</td><td>772</td><td>794</td><td>789</td><td>768</td><td>758</td><td>621</td><td>765</td><td>767</td><td>624</td></tr>\n",
       "\t<tr><th scope=row>CarmeloAnthony_FG</th><td>756</td><td>691</td><td>728</td><td>535</td><td>688</td><td>684</td><td>441</td><td>669</td><td>743</td><td>358</td></tr>\n",
       "\t<tr><th scope=row>DwightHoward_FG</th><td>468</td><td>526</td><td>583</td><td>560</td><td>510</td><td>619</td><td>416</td><td>470</td><td>473</td><td>251</td></tr>\n",
       "\t<tr><th scope=row>ChrisBosh_FG</th><td>549</td><td>543</td><td>507</td><td>615</td><td>600</td><td>524</td><td>393</td><td>485</td><td>492</td><td>343</td></tr>\n",
       "\t<tr><th scope=row>ChrisPaul_FG</th><td>407</td><td>381</td><td>630</td><td>631</td><td>314</td><td>430</td><td>425</td><td>412</td><td>406</td><td>568</td></tr>\n",
       "\t<tr><th scope=row>KevinDurant_FG</th><td>306</td><td>306</td><td>587</td><td>661</td><td>794</td><td>711</td><td>643</td><td>731</td><td>849</td><td>238</td></tr>\n",
       "\t<tr><th scope=row>DerrickRose_FG</th><td>208</td><td>208</td><td>208</td><td>574</td><td>672</td><td>711</td><td>302</td><td>  0</td><td> 58</td><td>338</td></tr>\n",
       "\t<tr><th scope=row>DwayneWade_FG</th><td>699</td><td>472</td><td>439</td><td>854</td><td>719</td><td>692</td><td>416</td><td>569</td><td>415</td><td>509</td></tr>\n",
       "</tbody>\n",
       "</table>\n"
      ],
      "text/latex": [
       "\\begin{tabular}{r|llllllllll}\n",
       "\tKobeBryant\\_FG & 978 & 813 & 775 & 800 & 716 & 740 & 574 & 738 &  31 & 266\\\\\n",
       "\tJoeJohnson\\_FG & 632 & 536 & 647 & 620 & 635 & 514 & 423 & 445 & 462 & 446\\\\\n",
       "\tLeBronJames\\_FG & 875 & 772 & 794 & 789 & 768 & 758 & 621 & 765 & 767 & 624\\\\\n",
       "\tCarmeloAnthony\\_FG & 756 & 691 & 728 & 535 & 688 & 684 & 441 & 669 & 743 & 358\\\\\n",
       "\tDwightHoward\\_FG & 468 & 526 & 583 & 560 & 510 & 619 & 416 & 470 & 473 & 251\\\\\n",
       "\tChrisBosh\\_FG & 549 & 543 & 507 & 615 & 600 & 524 & 393 & 485 & 492 & 343\\\\\n",
       "\tChrisPaul\\_FG & 407 & 381 & 630 & 631 & 314 & 430 & 425 & 412 & 406 & 568\\\\\n",
       "\tKevinDurant\\_FG & 306 & 306 & 587 & 661 & 794 & 711 & 643 & 731 & 849 & 238\\\\\n",
       "\tDerrickRose\\_FG & 208 & 208 & 208 & 574 & 672 & 711 & 302 &   0 &  58 & 338\\\\\n",
       "\tDwayneWade\\_FG & 699 & 472 & 439 & 854 & 719 & 692 & 416 & 569 & 415 & 509\\\\\n",
       "\\end{tabular}\n"
      ],
      "text/markdown": [
       "\n",
       "| KobeBryant_FG | 978 | 813 | 775 | 800 | 716 | 740 | 574 | 738 |  31 | 266 | \n",
       "| JoeJohnson_FG | 632 | 536 | 647 | 620 | 635 | 514 | 423 | 445 | 462 | 446 | \n",
       "| LeBronJames_FG | 875 | 772 | 794 | 789 | 768 | 758 | 621 | 765 | 767 | 624 | \n",
       "| CarmeloAnthony_FG | 756 | 691 | 728 | 535 | 688 | 684 | 441 | 669 | 743 | 358 | \n",
       "| DwightHoward_FG | 468 | 526 | 583 | 560 | 510 | 619 | 416 | 470 | 473 | 251 | \n",
       "| ChrisBosh_FG | 549 | 543 | 507 | 615 | 600 | 524 | 393 | 485 | 492 | 343 | \n",
       "| ChrisPaul_FG | 407 | 381 | 630 | 631 | 314 | 430 | 425 | 412 | 406 | 568 | \n",
       "| KevinDurant_FG | 306 | 306 | 587 | 661 | 794 | 711 | 643 | 731 | 849 | 238 | \n",
       "| DerrickRose_FG | 208 | 208 | 208 | 574 | 672 | 711 | 302 |   0 |  58 | 338 | \n",
       "| DwayneWade_FG | 699 | 472 | 439 | 854 | 719 | 692 | 416 | 569 | 415 | 509 | \n",
       "\n",
       "\n"
      ],
      "text/plain": [
       "                  [,1] [,2] [,3] [,4] [,5] [,6] [,7] [,8] [,9] [,10]\n",
       "KobeBryant_FG     978  813  775  800  716  740  574  738   31  266  \n",
       "JoeJohnson_FG     632  536  647  620  635  514  423  445  462  446  \n",
       "LeBronJames_FG    875  772  794  789  768  758  621  765  767  624  \n",
       "CarmeloAnthony_FG 756  691  728  535  688  684  441  669  743  358  \n",
       "DwightHoward_FG   468  526  583  560  510  619  416  470  473  251  \n",
       "ChrisBosh_FG      549  543  507  615  600  524  393  485  492  343  \n",
       "ChrisPaul_FG      407  381  630  631  314  430  425  412  406  568  \n",
       "KevinDurant_FG    306  306  587  661  794  711  643  731  849  238  \n",
       "DerrickRose_FG    208  208  208  574  672  711  302    0   58  338  \n",
       "DwayneWade_FG     699  472  439  854  719  692  416  569  415  509  "
      ]
     },
     "metadata": {},
     "output_type": "display_data"
    }
   ],
   "source": [
    "FieldGoals"
   ]
  },
  {
   "cell_type": "code",
   "execution_count": 6,
   "metadata": {},
   "outputs": [
    {
     "data": {
      "text/html": [
       "<strong>KobeBryant_FG:</strong> 978"
      ],
      "text/latex": [
       "\\textbf{KobeBryant\\textbackslash{}\\_FG:} 978"
      ],
      "text/markdown": [
       "**KobeBryant_FG:** 978"
      ],
      "text/plain": [
       "KobeBryant_FG \n",
       "          978 "
      ]
     },
     "metadata": {},
     "output_type": "display_data"
    }
   ],
   "source": [
    "FieldGoals[1,1]"
   ]
  },
  {
   "cell_type": "code",
   "execution_count": 7,
   "metadata": {
    "scrolled": true
   },
   "outputs": [
    {
     "data": {
      "text/html": [
       "<table>\n",
       "<thead><tr><th scope=col>KobeBryant_FG</th><th scope=col>JoeJohnson_FG</th><th scope=col>LeBronJames_FG</th><th scope=col>CarmeloAnthony_FG</th><th scope=col>DwightHoward_FG</th><th scope=col>ChrisBosh_FG</th><th scope=col>ChrisPaul_FG</th><th scope=col>KevinDurant_FG</th><th scope=col>DerrickRose_FG</th><th scope=col>DwayneWade_FG</th></tr></thead>\n",
       "<tbody>\n",
       "\t<tr><td>978</td><td>632</td><td>875</td><td>756</td><td>468</td><td>549</td><td>407</td><td>306</td><td>208</td><td>699</td></tr>\n",
       "\t<tr><td>813</td><td>536</td><td>772</td><td>691</td><td>526</td><td>543</td><td>381</td><td>306</td><td>208</td><td>472</td></tr>\n",
       "\t<tr><td>775</td><td>647</td><td>794</td><td>728</td><td>583</td><td>507</td><td>630</td><td>587</td><td>208</td><td>439</td></tr>\n",
       "\t<tr><td>800</td><td>620</td><td>789</td><td>535</td><td>560</td><td>615</td><td>631</td><td>661</td><td>574</td><td>854</td></tr>\n",
       "\t<tr><td>716</td><td>635</td><td>768</td><td>688</td><td>510</td><td>600</td><td>314</td><td>794</td><td>672</td><td>719</td></tr>\n",
       "\t<tr><td>740</td><td>514</td><td>758</td><td>684</td><td>619</td><td>524</td><td>430</td><td>711</td><td>711</td><td>692</td></tr>\n",
       "\t<tr><td>574</td><td>423</td><td>621</td><td>441</td><td>416</td><td>393</td><td>425</td><td>643</td><td>302</td><td>416</td></tr>\n",
       "\t<tr><td>738</td><td>445</td><td>765</td><td>669</td><td>470</td><td>485</td><td>412</td><td>731</td><td>  0</td><td>569</td></tr>\n",
       "\t<tr><td> 31</td><td>462</td><td>767</td><td>743</td><td>473</td><td>492</td><td>406</td><td>849</td><td> 58</td><td>415</td></tr>\n",
       "\t<tr><td>266</td><td>446</td><td>624</td><td>358</td><td>251</td><td>343</td><td>568</td><td>238</td><td>338</td><td>509</td></tr>\n",
       "</tbody>\n",
       "</table>\n"
      ],
      "text/latex": [
       "\\begin{tabular}{llllllllll}\n",
       " KobeBryant\\_FG & JoeJohnson\\_FG & LeBronJames\\_FG & CarmeloAnthony\\_FG & DwightHoward\\_FG & ChrisBosh\\_FG & ChrisPaul\\_FG & KevinDurant\\_FG & DerrickRose\\_FG & DwayneWade\\_FG\\\\\n",
       "\\hline\n",
       "\t 978 & 632 & 875 & 756 & 468 & 549 & 407 & 306 & 208 & 699\\\\\n",
       "\t 813 & 536 & 772 & 691 & 526 & 543 & 381 & 306 & 208 & 472\\\\\n",
       "\t 775 & 647 & 794 & 728 & 583 & 507 & 630 & 587 & 208 & 439\\\\\n",
       "\t 800 & 620 & 789 & 535 & 560 & 615 & 631 & 661 & 574 & 854\\\\\n",
       "\t 716 & 635 & 768 & 688 & 510 & 600 & 314 & 794 & 672 & 719\\\\\n",
       "\t 740 & 514 & 758 & 684 & 619 & 524 & 430 & 711 & 711 & 692\\\\\n",
       "\t 574 & 423 & 621 & 441 & 416 & 393 & 425 & 643 & 302 & 416\\\\\n",
       "\t 738 & 445 & 765 & 669 & 470 & 485 & 412 & 731 &   0 & 569\\\\\n",
       "\t  31 & 462 & 767 & 743 & 473 & 492 & 406 & 849 &  58 & 415\\\\\n",
       "\t 266 & 446 & 624 & 358 & 251 & 343 & 568 & 238 & 338 & 509\\\\\n",
       "\\end{tabular}\n"
      ],
      "text/markdown": [
       "\n",
       "KobeBryant_FG | JoeJohnson_FG | LeBronJames_FG | CarmeloAnthony_FG | DwightHoward_FG | ChrisBosh_FG | ChrisPaul_FG | KevinDurant_FG | DerrickRose_FG | DwayneWade_FG | \n",
       "|---|---|---|---|---|---|---|---|---|---|\n",
       "| 978 | 632 | 875 | 756 | 468 | 549 | 407 | 306 | 208 | 699 | \n",
       "| 813 | 536 | 772 | 691 | 526 | 543 | 381 | 306 | 208 | 472 | \n",
       "| 775 | 647 | 794 | 728 | 583 | 507 | 630 | 587 | 208 | 439 | \n",
       "| 800 | 620 | 789 | 535 | 560 | 615 | 631 | 661 | 574 | 854 | \n",
       "| 716 | 635 | 768 | 688 | 510 | 600 | 314 | 794 | 672 | 719 | \n",
       "| 740 | 514 | 758 | 684 | 619 | 524 | 430 | 711 | 711 | 692 | \n",
       "| 574 | 423 | 621 | 441 | 416 | 393 | 425 | 643 | 302 | 416 | \n",
       "| 738 | 445 | 765 | 669 | 470 | 485 | 412 | 731 |   0 | 569 | \n",
       "|  31 | 462 | 767 | 743 | 473 | 492 | 406 | 849 |  58 | 415 | \n",
       "| 266 | 446 | 624 | 358 | 251 | 343 | 568 | 238 | 338 | 509 | \n",
       "\n",
       "\n"
      ],
      "text/plain": [
       "      KobeBryant_FG JoeJohnson_FG LeBronJames_FG CarmeloAnthony_FG\n",
       " [1,] 978           632           875            756              \n",
       " [2,] 813           536           772            691              \n",
       " [3,] 775           647           794            728              \n",
       " [4,] 800           620           789            535              \n",
       " [5,] 716           635           768            688              \n",
       " [6,] 740           514           758            684              \n",
       " [7,] 574           423           621            441              \n",
       " [8,] 738           445           765            669              \n",
       " [9,]  31           462           767            743              \n",
       "[10,] 266           446           624            358              \n",
       "      DwightHoward_FG ChrisBosh_FG ChrisPaul_FG KevinDurant_FG DerrickRose_FG\n",
       " [1,] 468             549          407          306            208           \n",
       " [2,] 526             543          381          306            208           \n",
       " [3,] 583             507          630          587            208           \n",
       " [4,] 560             615          631          661            574           \n",
       " [5,] 510             600          314          794            672           \n",
       " [6,] 619             524          430          711            711           \n",
       " [7,] 416             393          425          643            302           \n",
       " [8,] 470             485          412          731              0           \n",
       " [9,] 473             492          406          849             58           \n",
       "[10,] 251             343          568          238            338           \n",
       "      DwayneWade_FG\n",
       " [1,] 699          \n",
       " [2,] 472          \n",
       " [3,] 439          \n",
       " [4,] 854          \n",
       " [5,] 719          \n",
       " [6,] 692          \n",
       " [7,] 416          \n",
       " [8,] 569          \n",
       " [9,] 415          \n",
       "[10,] 509          "
      ]
     },
     "metadata": {},
     "output_type": "display_data"
    }
   ],
   "source": [
    "t(FieldGoals)"
   ]
  },
  {
   "cell_type": "code",
   "execution_count": 9,
   "metadata": {},
   "outputs": [
    {
     "data": {
      "image/png": "[encoded data removed]",
      "text/plain": [
       "plot without title"
      ]
     },
     "metadata": {},
     "output_type": "display_data"
    }
   ],
   "source": [
    "matplot(t(FieldGoals))"
   ]
  },
  {
   "cell_type": "code",
   "execution_count": 14,
   "metadata": {},
   "outputs": [],
   "source": [
    "testMat <- matrix(c(1,2,3,4), nrow = 2, ncol =2)"
   ]
  },
  {
   "cell_type": "code",
   "execution_count": 12,
   "metadata": {},
   "outputs": [],
   "source": [
    "?matrix"
   ]
  },
  {
   "cell_type": "code",
   "execution_count": 15,
   "metadata": {},
   "outputs": [
    {
     "data": {
      "text/html": [
       "<table>\n",
       "<tbody>\n",
       "\t<tr><td>1</td><td>3</td></tr>\n",
       "\t<tr><td>2</td><td>4</td></tr>\n",
       "</tbody>\n",
       "</table>\n"
      ],
      "text/latex": [
       "\\begin{tabular}{ll}\n",
       "\t 1 & 3\\\\\n",
       "\t 2 & 4\\\\\n",
       "\\end{tabular}\n"
      ],
      "text/markdown": [
       "\n",
       "| 1 | 3 | \n",
       "| 2 | 4 | \n",
       "\n",
       "\n"
      ],
      "text/plain": [
       "     [,1] [,2]\n",
       "[1,] 1    3   \n",
       "[2,] 2    4   "
      ]
     },
     "metadata": {},
     "output_type": "display_data"
    }
   ],
   "source": [
    "testMat"
   ]
  },
  {
   "cell_type": "code",
   "execution_count": 16,
   "metadata": {},
   "outputs": [
    {
     "data": {
      "image/png": "[encoded data removed]",
      "text/plain": [
       "plot without title"
      ]
     },
     "metadata": {},
     "output_type": "display_data"
    }
   ],
   "source": [
    "matplot(testMat)"
   ]
  },
  {
   "cell_type": "code",
   "execution_count": 17,
   "metadata": {},
   "outputs": [],
   "source": [
    "?matplot"
   ]
  },
  {
   "cell_type": "code",
   "execution_count": 18,
   "metadata": {},
   "outputs": [],
   "source": [
    "?plot"
   ]
  },
  {
   "cell_type": "code",
   "execution_count": 36,
   "metadata": {},
   "outputs": [
    {
     "data": {
      "image/png": "[encoded data removed]",
      "text/plain": [
       "plot without title"
      ]
     },
     "metadata": {},
     "output_type": "display_data"
    }
   ],
   "source": [
    "matplot(t(FieldGoals),type=\"b\",pch=15:18,col=c(1:6))"
   ]
  },
  {
   "cell_type": "code",
   "execution_count": 29,
   "metadata": {},
   "outputs": [
    {
     "data": {
      "text/html": [
       "<ol class=list-inline>\n",
       "\t<li>1</li>\n",
       "\t<li>2</li>\n",
       "\t<li>3</li>\n",
       "\t<li>4</li>\n",
       "\t<li>6</li>\n",
       "</ol>\n"
      ],
      "text/latex": [
       "\\begin{enumerate*}\n",
       "\\item 1\n",
       "\\item 2\n",
       "\\item 3\n",
       "\\item 4\n",
       "\\item 6\n",
       "\\end{enumerate*}\n"
      ],
      "text/markdown": [
       "1. 1\n",
       "2. 2\n",
       "3. 3\n",
       "4. 4\n",
       "5. 6\n",
       "\n",
       "\n"
      ],
      "text/plain": [
       "[1] 1 2 3 4 6"
      ]
     },
     "metadata": {},
     "output_type": "display_data"
    }
   ],
   "source": [
    "c(1:4,6)"
   ]
  },
  {
   "cell_type": "code",
   "execution_count": 39,
   "metadata": {},
   "outputs": [],
   "source": [
    "Players <-\n",
    "c(\"KobeBryant\",\"JoeJohnson\",\"LeBronJames\",\"CarmeloAnthony\",\"DwightHoward\",\"Ch\n",
    "risBosh\",\"ChrisPaul\",\"KevinDurant\",\"DerrickRose\",\"DwayneWade\")"
   ]
  },
  {
   "cell_type": "markdown",
   "metadata": {},
   "source": [
    "<h2 style='color:red'> Question3 - Why does this Error out? </h2>\n"
   ]
  },
  {
   "cell_type": "code",
   "execution_count": 41,
   "metadata": {},
   "outputs": [
    {
     "ename": "ERROR",
     "evalue": "Error in strwidth(legend, units = \"user\", cex = cex, font = text.font): plot.new has not been called yet\n",
     "output_type": "error",
     "traceback": [
      "Error in strwidth(legend, units = \"user\", cex = cex, font = text.font): plot.new has not been called yet\nTraceback:\n",
      "1. legend(\"bottomleft\", inset = 0.01, legend = Players, col = c(1:4, \n .     6), horiz = F)",
      "2. strwidth(legend, units = \"user\", cex = cex, font = text.font)"
     ]
    }
   ],
   "source": [
    "legend(\"bottomleft\",inset=0.01,legend=Players,col=c(1:4,6),horiz=F)"
   ]
  },
  {
   "cell_type": "code",
   "execution_count": 35,
   "metadata": {},
   "outputs": [],
   "source": [
    "?legend"
   ]
  },
  {
   "cell_type": "code",
   "execution_count": 46,
   "metadata": {},
   "outputs": [],
   "source": [
    "?plot"
   ]
  },
  {
   "cell_type": "code",
   "execution_count": 43,
   "metadata": {},
   "outputs": [
    {
     "data": {
      "text/html": [
       "<ol class=list-inline>\n",
       "\t<li>'KobeBryant'</li>\n",
       "\t<li>'JoeJohnson'</li>\n",
       "\t<li>'LeBronJames'</li>\n",
       "\t<li>'CarmeloAnthony'</li>\n",
       "\t<li>'DwightHoward'</li>\n",
       "\t<li>'Ch\\nrisBosh'</li>\n",
       "\t<li>'ChrisPaul'</li>\n",
       "\t<li>'KevinDurant'</li>\n",
       "\t<li>'DerrickRose'</li>\n",
       "\t<li>'DwayneWade'</li>\n",
       "</ol>\n"
      ],
      "text/latex": [
       "\\begin{enumerate*}\n",
       "\\item 'KobeBryant'\n",
       "\\item 'JoeJohnson'\n",
       "\\item 'LeBronJames'\n",
       "\\item 'CarmeloAnthony'\n",
       "\\item 'DwightHoward'\n",
       "\\item 'Ch\\textbackslash{}nrisBosh'\n",
       "\\item 'ChrisPaul'\n",
       "\\item 'KevinDurant'\n",
       "\\item 'DerrickRose'\n",
       "\\item 'DwayneWade'\n",
       "\\end{enumerate*}\n"
      ],
      "text/markdown": [
       "1. 'KobeBryant'\n",
       "2. 'JoeJohnson'\n",
       "3. 'LeBronJames'\n",
       "4. 'CarmeloAnthony'\n",
       "5. 'DwightHoward'\n",
       "6. 'Ch\\nrisBosh'\n",
       "7. 'ChrisPaul'\n",
       "8. 'KevinDurant'\n",
       "9. 'DerrickRose'\n",
       "10. 'DwayneWade'\n",
       "\n",
       "\n"
      ],
      "text/plain": [
       " [1] \"KobeBryant\"     \"JoeJohnson\"     \"LeBronJames\"    \"CarmeloAnthony\"\n",
       " [5] \"DwightHoward\"   \"Ch\\nrisBosh\"    \"ChrisPaul\"      \"KevinDurant\"   \n",
       " [9] \"DerrickRose\"    \"DwayneWade\"    "
      ]
     },
     "metadata": {},
     "output_type": "display_data"
    }
   ],
   "source": [
    "Players"
   ]
  },
  {
   "cell_type": "code",
   "execution_count": 50,
   "metadata": {},
   "outputs": [],
   "source": [
    "#Field Goals\n",
    "KobeBryant_FG <- c(978,813,775,800,716,740,574,738,31,266)\n",
    "JoeJohnson_FG <- c(632,536,647,620,635,514,423,445,462,446)\n",
    "LeBronJames_FG <- c(875,772,794,789,768,758,621,765,767,624)\n",
    "CarmeloAnthony_FG <- c(756,691,728,535,688,684,441,669,743,358)\n",
    "DwightHoward_FG <- c(468,526,583,560,510,619,416,470,473,251)\n",
    "ChrisBosh_FG <- c(549,543,507,615,600,524,393,485,492,343)\n",
    "ChrisPaul_FG <- c(407,381,630,631,314,430,425,412,406,568)\n",
    "KevinDurant_FG <- c(306,306,587,661,794,711,643,731,849,238)\n",
    "DerrickRose_FG <- c(208,208,208,574,672,711,302,0,58,338)\n",
    "DwayneWade_FG <- c(699,472,439,854,719,692,416,569,415,509)\n",
    "#Matrix\n",
    "FieldGoals <- rbind(KobeBryant_FG, JoeJohnson_FG, LeBronJames_FG,\n",
    "CarmeloAnthony_FG, DwightHoward_FG, ChrisBosh_FG, ChrisPaul_FG,\n",
    "KevinDurant_FG, DerrickRose_FG, DwayneWade_FG)\n",
    "rm(KobeBryant_FG, JoeJohnson_FG, LeBronJames_FG, CarmeloAnthony_FG,\n",
    "DwightHoward_FG, ChrisBosh_FG, ChrisPaul_FG, KevinDurant_FG, DerrickRose_FG,\n",
    "DwayneWade_FG)\n",
    "\n",
    "#Seasons\n",
    "Seasons <-\n",
    "c(\"2005\",\"2006\",\"2007\",\"2008\",\"2009\",\"2010\",\"2011\",\"2012\",\"2013\",\"2014\")\n",
    "#Players\n",
    "Players <-\n",
    "c(\"KobeBryant\",\"JoeJohnson\",\"LeBronJames\",\"CarmeloAnthony\",\"DwightHoward\",\"Ch\n",
    "risBosh\",\"ChrisPaul\",\"KevinDurant\",\"DerrickRose\",\"DwayneWade\")\n",
    "\n",
    "colnames(FieldGoals) <- Seasons\n",
    "rownames(FieldGoals) <- Players"
   ]
  },
  {
   "cell_type": "code",
   "execution_count": 51,
   "metadata": {},
   "outputs": [],
   "source": [
    "#Games\n",
    "KobeBryant_G <- c(80,77,82,82,73,82,58,78,6,35)\n",
    "JoeJohnson_G <- c(82,57,82,79,76,72,60,72,79,80)\n",
    "LeBronJames_G <- c(79,78,75,81,76,79,62,76,77,69)\n",
    "CarmeloAnthony_G <- c(80,65,77,66,69,77,55,67,77,40)\n",
    "DwightHoward_G <- c(82,82,82,79,82,78,54,76,71,41)\n",
    "ChrisBosh_G <- c(70,69,67,77,70,77,57,74,79,44)\n",
    "ChrisPaul_G <- c(78,64,80,78,45,80,60,70,62,82)\n",
    "KevinDurant_G <- c(35,35,80,74,82,78,66,81,81,27)\n",
    "DerrickRose_G <- c(40,40,40,81,78,81,39,0,10,51)\n",
    "DwayneWade_G <- c(75,51,51,79,77,76,49,69,54,62)\n",
    "#Matrix\n",
    "Games <- rbind(KobeBryant_G, JoeJohnson_G, LeBronJames_G, CarmeloAnthony_G,\n",
    "DwightHoward_G, ChrisBosh_G, ChrisPaul_G, KevinDurant_G, DerrickRose_G,\n",
    "DwayneWade_G)\n",
    "rm(KobeBryant_G, JoeJohnson_G, CarmeloAnthony_G, DwightHoward_G,\n",
    "ChrisBosh_G, LeBronJames_G, ChrisPaul_G, DerrickRose_G, DwayneWade_G,\n",
    "KevinDurant_G)\n",
    "colnames(Games) <- Seasons\n",
    "rownames(Games) <- Players"
   ]
  },
  {
   "cell_type": "code",
   "execution_count": 52,
   "metadata": {},
   "outputs": [
    {
     "data": {
      "text/html": [
       "<table>\n",
       "<thead><tr><th></th><th scope=col>2005</th><th scope=col>2006</th><th scope=col>2007</th><th scope=col>2008</th><th scope=col>2009</th><th scope=col>2010</th><th scope=col>2011</th><th scope=col>2012</th><th scope=col>2013</th><th scope=col>2014</th></tr></thead>\n",
       "<tbody>\n",
       "\t<tr><th scope=row>KobeBryant</th><td>12.225000</td><td>10.558442</td><td> 9.451220</td><td> 9.756098</td><td> 9.808219</td><td>9.024390 </td><td> 9.896552</td><td> 9.461538</td><td> 5.166667</td><td>7.600000 </td></tr>\n",
       "\t<tr><th scope=row>JoeJohnson</th><td> 7.707317</td><td> 9.403509</td><td> 7.890244</td><td> 7.848101</td><td> 8.355263</td><td>7.138889 </td><td> 7.050000</td><td> 6.180556</td><td> 5.848101</td><td>5.575000 </td></tr>\n",
       "\t<tr><th scope=row>LeBronJames</th><td>11.075949</td><td> 9.897436</td><td>10.586667</td><td> 9.740741</td><td>10.105263</td><td>9.594937 </td><td>10.016129</td><td>10.065789</td><td> 9.961039</td><td>9.043478 </td></tr>\n",
       "\t<tr><th scope=row>CarmeloAnthony</th><td> 9.450000</td><td>10.630769</td><td> 9.454545</td><td> 8.106061</td><td> 9.971014</td><td>8.883117 </td><td> 8.018182</td><td> 9.985075</td><td> 9.649351</td><td>8.950000 </td></tr>\n",
       "\t<tr><th scope=row>DwightHoward</th><td> 5.707317</td><td> 6.414634</td><td> 7.109756</td><td> 7.088608</td><td> 6.219512</td><td>7.935897 </td><td> 7.703704</td><td> 6.184211</td><td> 6.661972</td><td>6.121951 </td></tr>\n",
       "\t<tr><th scope=row>Ch\n",
       "risBosh</th><td> 7.842857</td><td> 7.869565</td><td> 7.567164</td><td> 7.987013</td><td> 8.571429</td><td>6.805195 </td><td> 6.894737</td><td> 6.554054</td><td> 6.227848</td><td>7.795455 </td></tr>\n",
       "\t<tr><th scope=row>ChrisPaul</th><td> 5.217949</td><td> 5.953125</td><td> 7.875000</td><td> 8.089744</td><td> 6.977778</td><td>5.375000 </td><td> 7.083333</td><td> 5.885714</td><td> 6.548387</td><td>6.926829 </td></tr>\n",
       "\t<tr><th scope=row>KevinDurant</th><td> 8.742857</td><td> 8.742857</td><td> 7.337500</td><td> 8.932432</td><td> 9.682927</td><td>9.115385 </td><td> 9.742424</td><td> 9.024691</td><td>10.481481</td><td>8.814815 </td></tr>\n",
       "\t<tr><th scope=row>DerrickRose</th><td> 5.200000</td><td> 5.200000</td><td> 5.200000</td><td> 7.086420</td><td> 8.615385</td><td>8.777778 </td><td> 7.743590</td><td>      NaN</td><td> 5.800000</td><td>6.627451 </td></tr>\n",
       "\t<tr><th scope=row>DwayneWade</th><td> 9.320000</td><td> 9.254902</td><td> 8.607843</td><td>10.810127</td><td> 9.337662</td><td>9.105263 </td><td> 8.489796</td><td> 8.246377</td><td> 7.685185</td><td>8.209677 </td></tr>\n",
       "</tbody>\n",
       "</table>\n"
      ],
      "text/latex": [
       "\\begin{tabular}{r|llllllllll}\n",
       "  & 2005 & 2006 & 2007 & 2008 & 2009 & 2010 & 2011 & 2012 & 2013 & 2014\\\\\n",
       "\\hline\n",
       "\tKobeBryant & 12.225000 & 10.558442 &  9.451220 &  9.756098 &  9.808219 & 9.024390  &  9.896552 &  9.461538 &  5.166667 & 7.600000 \\\\\n",
       "\tJoeJohnson &  7.707317 &  9.403509 &  7.890244 &  7.848101 &  8.355263 & 7.138889  &  7.050000 &  6.180556 &  5.848101 & 5.575000 \\\\\n",
       "\tLeBronJames & 11.075949 &  9.897436 & 10.586667 &  9.740741 & 10.105263 & 9.594937  & 10.016129 & 10.065789 &  9.961039 & 9.043478 \\\\\n",
       "\tCarmeloAnthony &  9.450000 & 10.630769 &  9.454545 &  8.106061 &  9.971014 & 8.883117  &  8.018182 &  9.985075 &  9.649351 & 8.950000 \\\\\n",
       "\tDwightHoward &  5.707317 &  6.414634 &  7.109756 &  7.088608 &  6.219512 & 7.935897  &  7.703704 &  6.184211 &  6.661972 & 6.121951 \\\\\n",
       "\tCh\n",
       "risBosh &  7.842857 &  7.869565 &  7.567164 &  7.987013 &  8.571429 & 6.805195  &  6.894737 &  6.554054 &  6.227848 & 7.795455 \\\\\n",
       "\tChrisPaul &  5.217949 &  5.953125 &  7.875000 &  8.089744 &  6.977778 & 5.375000  &  7.083333 &  5.885714 &  6.548387 & 6.926829 \\\\\n",
       "\tKevinDurant &  8.742857 &  8.742857 &  7.337500 &  8.932432 &  9.682927 & 9.115385  &  9.742424 &  9.024691 & 10.481481 & 8.814815 \\\\\n",
       "\tDerrickRose &  5.200000 &  5.200000 &  5.200000 &  7.086420 &  8.615385 & 8.777778  &  7.743590 &       NaN &  5.800000 & 6.627451 \\\\\n",
       "\tDwayneWade &  9.320000 &  9.254902 &  8.607843 & 10.810127 &  9.337662 & 9.105263  &  8.489796 &  8.246377 &  7.685185 & 8.209677 \\\\\n",
       "\\end{tabular}\n"
      ],
      "text/markdown": [
       "\n",
       "| <!--/--> | 2005 | 2006 | 2007 | 2008 | 2009 | 2010 | 2011 | 2012 | 2013 | 2014 | \n",
       "|---|---|---|---|---|---|---|---|---|---|\n",
       "| KobeBryant | 12.225000 | 10.558442 |  9.451220 |  9.756098 |  9.808219 | 9.024390  |  9.896552 |  9.461538 |  5.166667 | 7.600000  | \n",
       "| JoeJohnson |  7.707317 |  9.403509 |  7.890244 |  7.848101 |  8.355263 | 7.138889  |  7.050000 |  6.180556 |  5.848101 | 5.575000  | \n",
       "| LeBronJames | 11.075949 |  9.897436 | 10.586667 |  9.740741 | 10.105263 | 9.594937  | 10.016129 | 10.065789 |  9.961039 | 9.043478  | \n",
       "| CarmeloAnthony |  9.450000 | 10.630769 |  9.454545 |  8.106061 |  9.971014 | 8.883117  |  8.018182 |  9.985075 |  9.649351 | 8.950000  | \n",
       "| DwightHoward |  5.707317 |  6.414634 |  7.109756 |  7.088608 |  6.219512 | 7.935897  |  7.703704 |  6.184211 |  6.661972 | 6.121951  | \n",
       "| Ch\n",
       "risBosh |  7.842857 |  7.869565 |  7.567164 |  7.987013 |  8.571429 | 6.805195  |  6.894737 |  6.554054 |  6.227848 | 7.795455  | \n",
       "| ChrisPaul |  5.217949 |  5.953125 |  7.875000 |  8.089744 |  6.977778 | 5.375000  |  7.083333 |  5.885714 |  6.548387 | 6.926829  | \n",
       "| KevinDurant |  8.742857 |  8.742857 |  7.337500 |  8.932432 |  9.682927 | 9.115385  |  9.742424 |  9.024691 | 10.481481 | 8.814815  | \n",
       "| DerrickRose |  5.200000 |  5.200000 |  5.200000 |  7.086420 |  8.615385 | 8.777778  |  7.743590 |       NaN |  5.800000 | 6.627451  | \n",
       "| DwayneWade |  9.320000 |  9.254902 |  8.607843 | 10.810127 |  9.337662 | 9.105263  |  8.489796 |  8.246377 |  7.685185 | 8.209677  | \n",
       "\n",
       "\n"
      ],
      "text/plain": [
       "               2005      2006      2007      2008      2009      2010    \n",
       "KobeBryant     12.225000 10.558442  9.451220  9.756098  9.808219 9.024390\n",
       "JoeJohnson      7.707317  9.403509  7.890244  7.848101  8.355263 7.138889\n",
       "LeBronJames    11.075949  9.897436 10.586667  9.740741 10.105263 9.594937\n",
       "CarmeloAnthony  9.450000 10.630769  9.454545  8.106061  9.971014 8.883117\n",
       "DwightHoward    5.707317  6.414634  7.109756  7.088608  6.219512 7.935897\n",
       "Ch\\nrisBosh     7.842857  7.869565  7.567164  7.987013  8.571429 6.805195\n",
       "ChrisPaul       5.217949  5.953125  7.875000  8.089744  6.977778 5.375000\n",
       "KevinDurant     8.742857  8.742857  7.337500  8.932432  9.682927 9.115385\n",
       "DerrickRose     5.200000  5.200000  5.200000  7.086420  8.615385 8.777778\n",
       "DwayneWade      9.320000  9.254902  8.607843 10.810127  9.337662 9.105263\n",
       "               2011      2012      2013      2014    \n",
       "KobeBryant      9.896552  9.461538  5.166667 7.600000\n",
       "JoeJohnson      7.050000  6.180556  5.848101 5.575000\n",
       "LeBronJames    10.016129 10.065789  9.961039 9.043478\n",
       "CarmeloAnthony  8.018182  9.985075  9.649351 8.950000\n",
       "DwightHoward    7.703704  6.184211  6.661972 6.121951\n",
       "Ch\\nrisBosh     6.894737  6.554054  6.227848 7.795455\n",
       "ChrisPaul       7.083333  5.885714  6.548387 6.926829\n",
       "KevinDurant     9.742424  9.024691 10.481481 8.814815\n",
       "DerrickRose     7.743590       NaN  5.800000 6.627451\n",
       "DwayneWade      8.489796  8.246377  7.685185 8.209677"
      ]
     },
     "metadata": {},
     "output_type": "display_data"
    }
   ],
   "source": [
    "FieldGoals/Games"
   ]
  },
  {
   "cell_type": "code",
   "execution_count": 75,
   "metadata": {},
   "outputs": [
    {
     "data": {
      "image/png": "[encoded data removed]",
      "text/plain": [
       "plot without title"
      ]
     },
     "metadata": {},
     "output_type": "display_data"
    }
   ],
   "source": [
    "par(xpd=T)\n",
    "matplot(t(FieldGoals/Games),type=\"b\",pch=15:18,col=c(1:4,6), bty='L')\n",
    "legend(\"topright\",inset=0.10,legend=Players,col=c(1:4,6),horiz=F)"
   ]
  },
  {
   "cell_type": "markdown",
   "metadata": {},
   "source": [
    "<h2 style='color:red'> Question3 - Legend not outside the graph and colors dont show up on legend </h2>\n"
   ]
  },
  {
   "cell_type": "markdown",
   "metadata": {},
   "source": [
    "<h2 style='color:purple'> Page 80 </h2>\n"
   ]
  },
  {
   "cell_type": "code",
   "execution_count": null,
   "metadata": {},
   "outputs": [],
   "source": []
  }
 ],
 "metadata": {
  "kernelspec": {
   "display_name": "R",
   "language": "R",
   "name": "ir"
  },
  "language_info": {
   "codemirror_mode": "r",
   "file_extension": ".r",
   "mimetype": "text/x-r-source",
   "name": "R",
   "pygments_lexer": "r",
   "version": "3.4.3"
  }
 },
 "nbformat": 4,
 "nbformat_minor": 2
}
